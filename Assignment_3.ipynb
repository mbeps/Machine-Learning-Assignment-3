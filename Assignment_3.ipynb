{
 "cells": [
  {
   "cell_type": "markdown",
   "metadata": {},
   "source": [
    "# Assignment 3 - CS3920"
   ]
  },
  {
   "cell_type": "code",
   "execution_count": 243,
   "metadata": {},
   "outputs": [],
   "source": [
    "from sklearn.datasets import load_wine\n",
    "from sklearn.model_selection import train_test_split, cross_val_score, GridSearchCV\n",
    "from sklearn.svm import SVC\n",
    "from sklearn.pipeline import Pipeline, make_pipeline\n",
    "from sklearn.preprocessing import StandardScaler, MinMaxScaler, Normalizer, RobustScaler\n",
    "from sklearn.base import BaseEstimator\n",
    "\n",
    "import numpy as np"
   ]
  },
  {
   "cell_type": "code",
   "execution_count": 244,
   "metadata": {},
   "outputs": [],
   "source": [
    "CV: int = 3\n",
    "RANDOM_STATE: int = 3103"
   ]
  },
  {
   "attachments": {},
   "cell_type": "markdown",
   "metadata": {},
   "source": [
    "# 1 - Load Datasets"
   ]
  },
  {
   "attachments": {},
   "cell_type": "markdown",
   "metadata": {},
   "source": [
    "## Loading Wine Dataset"
   ]
  },
  {
   "cell_type": "code",
   "execution_count": 245,
   "metadata": {},
   "outputs": [],
   "source": [
    "wine: np.ndarray = load_wine()\n",
    "X_wine: np.ndarray = wine.data\n",
    "y_wine: np.ndarray = wine.target"
   ]
  },
  {
   "attachments": {},
   "cell_type": "markdown",
   "metadata": {},
   "source": [
    "## Loading USPS Dataset"
   ]
  },
  {
   "cell_type": "code",
   "execution_count": 246,
   "metadata": {},
   "outputs": [],
   "source": [
    "DATA_SPLIT: int = 10 # percentage of data to be used "
   ]
  },
  {
   "cell_type": "code",
   "execution_count": 247,
   "metadata": {},
   "outputs": [],
   "source": [
    "zip_train: np.ndarray = np.genfromtxt('zip.train', delimiter=' ')\n",
    "zip_train = zip_train[::DATA_SPLIT]\n",
    "\n",
    "zip_test: np.ndarray = np.genfromtxt('zip.test', delimiter=' ')\n",
    "zip_test = zip_test[::DATA_SPLIT]\n",
    "\n",
    "zip_data: np.ndarray = np.concatenate((zip_train, zip_test), axis=0)\n",
    "zip_data = zip_data[::DATA_SPLIT]\n",
    "\n",
    "X_zip: np.ndarray = zip_data[:, 1:]\n",
    "y_zip: np.ndarray = zip_data[:, 0]"
   ]
  },
  {
   "cell_type": "code",
   "execution_count": 248,
   "metadata": {},
   "outputs": [],
   "source": [
    "del zip_train, zip_test"
   ]
  },
  {
   "attachments": {},
   "cell_type": "markdown",
   "metadata": {},
   "source": [
    "# 2 - Split Datasets "
   ]
  },
  {
   "cell_type": "code",
   "execution_count": 249,
   "metadata": {},
   "outputs": [],
   "source": [
    "def split(X: np.ndarray, y: np.ndarray) -> tuple[np.ndarray[float]]:\n",
    "\treturn train_test_split(X, y, test_size=0.3, random_state=RANDOM_STATE)"
   ]
  },
  {
   "attachments": {},
   "cell_type": "markdown",
   "metadata": {},
   "source": [
    "## Splitting Wine Dataset"
   ]
  },
  {
   "cell_type": "code",
   "execution_count": 250,
   "metadata": {},
   "outputs": [],
   "source": [
    "# X_wine_train, X_wine_test, y_wine_train, y_wine_test = train_test_split(X_wine, y_wine, test_size=0.3, random_state=RANDOM_STATE)\n",
    "X_wine_train, X_wine_test, y_wine_train, y_wine_test = split(X_wine, y_wine)"
   ]
  },
  {
   "attachments": {},
   "cell_type": "markdown",
   "metadata": {},
   "source": [
    "## Splitting Zip Dataset"
   ]
  },
  {
   "cell_type": "code",
   "execution_count": 251,
   "metadata": {},
   "outputs": [],
   "source": [
    "# X_zip_train, X_zip_test, y_zip_train, y_zip_test = train_test_split(X_zip, y_zip, test_size=0.3, random_state=RANDOM_STATE)\n",
    "X_zip_train, X_zip_test, y_zip_train, y_zip_test = split(X_zip, y_zip)"
   ]
  },
  {
   "attachments": {},
   "cell_type": "markdown",
   "metadata": {},
   "source": [
    "# 3 - Cross Validation"
   ]
  },
  {
   "attachments": {},
   "cell_type": "markdown",
   "metadata": {},
   "source": [
    "## Cross Validate Wine"
   ]
  },
  {
   "cell_type": "code",
   "execution_count": 252,
   "metadata": {},
   "outputs": [
    {
     "name": "stdout",
     "output_type": "stream",
     "text": [
      "Cross-validation scores:  [0.64285714 0.63414634 0.68292683]\n",
      "Average cross-validation score:  0.6533101045296168\n"
     ]
    }
   ],
   "source": [
    "svm: SVC = SVC()\n",
    "scores_wine: np.ndarray[float] = cross_val_score(svm, X_wine_train, y_wine_train, cv=CV)\n",
    "print(\"Cross-validation scores: \", scores_wine)\n",
    "print(\"Average cross-validation score: \", scores_wine.mean())"
   ]
  },
  {
   "attachments": {},
   "cell_type": "markdown",
   "metadata": {},
   "source": [
    "## Cross Validate Zip"
   ]
  },
  {
   "cell_type": "code",
   "execution_count": 253,
   "metadata": {},
   "outputs": [
    {
     "name": "stdout",
     "output_type": "stream",
     "text": [
      "Cross-validation scores:  [0.63636364 0.72727273 0.61904762]\n",
      "Average cross-validation score:  0.660894660894661\n"
     ]
    }
   ],
   "source": [
    "score_zip: np.ndarray[float] = cross_val_score(svm, X_zip_train, y_zip_train, cv=CV)\n",
    "print(\"Cross-validation scores: \", score_zip)\n",
    "print(\"Average cross-validation score: \", score_zip.mean())"
   ]
  },
  {
   "attachments": {},
   "cell_type": "markdown",
   "metadata": {},
   "source": [
    "# 4 - Test Error Rate of `SVM`"
   ]
  },
  {
   "attachments": {},
   "cell_type": "markdown",
   "metadata": {},
   "source": [
    "## Test Wine"
   ]
  },
  {
   "cell_type": "code",
   "execution_count": 254,
   "metadata": {},
   "outputs": [
    {
     "name": "stdout",
     "output_type": "stream",
     "text": [
      "Test error rate:  0.2777777777777778\n"
     ]
    }
   ],
   "source": [
    "svm.fit(X_wine_train, y_wine_train)\n",
    "print(\"Test error rate: \", 1 - svm.score(X_wine_test, y_wine_test))"
   ]
  },
  {
   "attachments": {},
   "cell_type": "markdown",
   "metadata": {},
   "source": [
    "## Test Zip"
   ]
  },
  {
   "cell_type": "code",
   "execution_count": 255,
   "metadata": {},
   "outputs": [
    {
     "name": "stdout",
     "output_type": "stream",
     "text": [
      "Test error rate:  0.4482758620689655\n"
     ]
    }
   ],
   "source": [
    "svm.fit(X_zip_train, y_zip_train)\n",
    "print(\"Test error rate: \", 1 - svm.score(X_zip_test, y_zip_test))"
   ]
  },
  {
   "attachments": {},
   "cell_type": "markdown",
   "metadata": {},
   "source": [
    "# 5 - Pipeline"
   ]
  },
  {
   "cell_type": "code",
   "execution_count": 256,
   "metadata": {},
   "outputs": [],
   "source": [
    "param_grid: dict[str, list[float]] = {\n",
    "\t'svc__C': [0.001, 0.01, 0.1, 1, 10, 100], \n",
    "\t'svc__gamma': [0.001, 0.01, 0.1, 1, 10, 100]\n",
    "}"
   ]
  },
  {
   "attachments": {},
   "cell_type": "markdown",
   "metadata": {},
   "source": [
    "## Wine Dataset"
   ]
  },
  {
   "cell_type": "code",
   "execution_count": 257,
   "metadata": {},
   "outputs": [],
   "source": [
    "class Super_Pipeline:\n",
    "\tdef __init__ (self, param_grid: dict[str, list[float]], scaler: BaseEstimator, X_train: np.ndarray[float], y_train: np.ndarray[float], X_test: np.ndarray[float], y_test: np.ndarray[float]):\n",
    "\t\tself.pipeline: Pipeline = make_pipeline(scaler(), SVC())\n",
    "\t\tself.grid: GridSearchCV = GridSearchCV(self.pipeline, param_grid, cv=CV)\n",
    "\t\tself.grid.fit(X_train, y_train)\n",
    "\t\tself.X_train: np.ndarray[float] = X_train\n",
    "\t\tself.y_train: np.ndarray[float] = y_train\n",
    "\t\tself.X_test: np.ndarray[float] = X_test\n",
    "\t\tself.y_test: np.ndarray[float] = y_test\n",
    "\t\t\n",
    "\t@property\n",
    "\tdef best_score(self) -> float:\n",
    "\t\treturn self.grid.best_score_\n",
    "\n",
    "\t@property\n",
    "\tdef best_params(self) -> dict[str, float]:\n",
    "\t\treturn self.grid.best_params_\n",
    "\n",
    "\t@property\n",
    "\tdef test_score(self) -> float:\n",
    "\t\treturn self.grid.score(self.X_test, self.y_test)\n",
    "\n",
    "\t@property\n",
    "\tdef error_rate(self) -> float:\n",
    "\t\treturn 1 - self.best_score\n",
    "\n",
    "\tdef __str__(self) -> str:\n",
    "\t\tbest_score: str = f\"Best cross-validation score: {self.best_score}\"\n",
    "\t\tbest_params: str = f\"Best parameters: {self.best_params}\"\n",
    "\t\ttest_score: str = f\"Test set score: {self.test_score}\"\n",
    "\t\terror_rate: str = f\"Test set error rate: {self.error_rate}\"\n",
    "\t\treturn f\"{best_score}\\n{best_params}\\n{test_score}\\n{error_rate}\"\n",
    "\t\t# return f\"{best_score}\\n{best_params}\\n{error_rate}\"\n",
    "\t\t\n",
    "\t\t# return (f\"\"\"\n",
    "\t\t# Best cross-validation score: {self.best_score} \n",
    "\t\t# Best parameters: {self.best_params}\n",
    "\t\t# Test set score: {self.test_score}\n",
    "\t\t# Test set error rate: {self.error_rate}\n",
    "\t\t# \"\"\")\n",
    "\t\t"
   ]
  },
  {
   "attachments": {},
   "cell_type": "markdown",
   "metadata": {},
   "source": [
    "### MinMax Scaler"
   ]
  },
  {
   "cell_type": "code",
   "execution_count": 258,
   "metadata": {},
   "outputs": [
    {
     "name": "stdout",
     "output_type": "stream",
     "text": [
      "Best cross-validation score: 0.991869918699187\n",
      "Best parameters: {'svc__C': 10, 'svc__gamma': 0.1}\n",
      "Test set score: 0.9814814814814815\n",
      "Test set error rate: 0.008130081300813052\n"
     ]
    }
   ],
   "source": [
    "wine_super_pipe_minmax: Super_Pipeline = Super_Pipeline(param_grid, MinMaxScaler, X_wine_train, y_wine_train, X_wine_test, y_wine_test)\n",
    "print(wine_super_pipe_minmax)"
   ]
  },
  {
   "attachments": {},
   "cell_type": "markdown",
   "metadata": {},
   "source": [
    "### Standard Scaler"
   ]
  },
  {
   "cell_type": "code",
   "execution_count": 259,
   "metadata": {},
   "outputs": [
    {
     "name": "stdout",
     "output_type": "stream",
     "text": [
      "Best cross-validation score: 0.983933410762679\n",
      "Best parameters: {'svc__C': 100, 'svc__gamma': 0.001}\n",
      "Test set score: 0.9814814814814815\n",
      "Test set error rate: 0.01606658923732096\n"
     ]
    }
   ],
   "source": [
    "wine_super_pipe_standard: Super_Pipeline = Super_Pipeline(param_grid, StandardScaler, X_wine_train, y_wine_train, X_wine_test, y_wine_test)\n",
    "print(wine_super_pipe_standard)"
   ]
  },
  {
   "attachments": {},
   "cell_type": "markdown",
   "metadata": {},
   "source": [
    "### Normalizer"
   ]
  },
  {
   "cell_type": "code",
   "execution_count": 260,
   "metadata": {},
   "outputs": [
    {
     "name": "stdout",
     "output_type": "stream",
     "text": [
      "Best cross-validation score: 0.927022841656988\n",
      "Best parameters: {'svc__C': 100, 'svc__gamma': 100}\n",
      "Test set score: 0.9629629629629629\n",
      "Test set error rate: 0.072977158343012\n"
     ]
    }
   ],
   "source": [
    "wine_super_pipe_normalizer: Super_Pipeline = Super_Pipeline(param_grid, Normalizer, X_wine_train, y_wine_train, X_wine_test, y_wine_test)\n",
    "print(wine_super_pipe_normalizer)"
   ]
  },
  {
   "attachments": {},
   "cell_type": "markdown",
   "metadata": {},
   "source": [
    "### Robust Scaler"
   ]
  },
  {
   "cell_type": "code",
   "execution_count": 261,
   "metadata": {},
   "outputs": [
    {
     "name": "stdout",
     "output_type": "stream",
     "text": [
      "Best cross-validation score: 0.983739837398374\n",
      "Best parameters: {'svc__C': 10, 'svc__gamma': 0.01}\n",
      "Test set score: 0.9814814814814815\n",
      "Test set error rate: 0.016260162601625994\n"
     ]
    }
   ],
   "source": [
    "wine_super_pipe_robust: Super_Pipeline = Super_Pipeline(param_grid, RobustScaler, X_wine_train, y_wine_train, X_wine_test, y_wine_test)\n",
    "print(wine_super_pipe_robust)"
   ]
  },
  {
   "attachments": {},
   "cell_type": "markdown",
   "metadata": {},
   "source": [
    "## Zip Dataset"
   ]
  },
  {
   "attachments": {},
   "cell_type": "markdown",
   "metadata": {},
   "source": [
    "### MinMax Scaler"
   ]
  },
  {
   "cell_type": "code",
   "execution_count": 263,
   "metadata": {},
   "outputs": [
    {
     "name": "stdout",
     "output_type": "stream",
     "text": [
      "Best cross-validation score: 0.7373737373737373\n",
      "Best parameters: {'svc__C': 100, 'svc__gamma': 0.001}\n",
      "Test set score: 0.5862068965517241\n",
      "Test set error rate: 0.26262626262626265\n"
     ]
    }
   ],
   "source": [
    "zip_super_pipe_minmax: Super_Pipeline = Super_Pipeline(param_grid, MinMaxScaler, X_zip_train, y_zip_train, X_zip_test, y_zip_test)\n",
    "print(zip_super_pipe_minmax)"
   ]
  },
  {
   "attachments": {},
   "cell_type": "markdown",
   "metadata": {},
   "source": [
    "### Standard Scaler"
   ]
  },
  {
   "cell_type": "code",
   "execution_count": 265,
   "metadata": {},
   "outputs": [
    {
     "name": "stdout",
     "output_type": "stream",
     "text": [
      "Best cross-validation score: 0.7070707070707071\n",
      "Best parameters: {'svc__C': 10, 'svc__gamma': 0.001}\n",
      "Test set score: 0.5517241379310345\n",
      "Test set error rate: 0.29292929292929293\n"
     ]
    }
   ],
   "source": [
    "zip_super_pipe_standard: Super_Pipeline = Super_Pipeline(param_grid, StandardScaler, X_zip_train, y_zip_train, X_zip_test, y_zip_test)\n",
    "print(zip_super_pipe_standard)"
   ]
  },
  {
   "attachments": {},
   "cell_type": "markdown",
   "metadata": {},
   "source": [
    "### Normalizer"
   ]
  },
  {
   "cell_type": "code",
   "execution_count": 278,
   "metadata": {},
   "outputs": [
    {
     "name": "stdout",
     "output_type": "stream",
     "text": [
      "Best cross-validation score: 0.4437229437229437\n",
      "Best parameters: {'svc__C': 100, 'svc__gamma': 0.001}\n",
      "Test set score: 0.5862068965517241\n",
      "Test set error rate: 0.5562770562770563\n"
     ]
    }
   ],
   "source": [
    "zip_super_pipe_robust: Super_Pipeline = Super_Pipeline(param_grid, RobustScaler, X_zip_train, y_zip_train, X_zip_test, y_zip_test)\n",
    "print(zip_super_pipe_robust)"
   ]
  },
  {
   "attachments": {},
   "cell_type": "markdown",
   "metadata": {},
   "source": [
    "### Robust Scaler"
   ]
  },
  {
   "cell_type": "code",
   "execution_count": 279,
   "metadata": {},
   "outputs": [
    {
     "name": "stdout",
     "output_type": "stream",
     "text": [
      "Best cross-validation score: 0.7532467532467533\n",
      "Best parameters: {'svc__C': 100, 'svc__gamma': 0.1}\n",
      "Test set score: 0.5862068965517241\n",
      "Test set error rate: 0.24675324675324672\n"
     ]
    }
   ],
   "source": [
    "zip_super_pipe_normalizer: Super_Pipeline = Super_Pipeline(param_grid, Normalizer, X_zip_train, y_zip_train, X_zip_test, y_zip_test)\n",
    "print(zip_super_pipe_normalizer)"
   ]
  },
  {
   "attachments": {},
   "cell_type": "markdown",
   "metadata": {},
   "source": [
    "# 6 - Predict Test Labels"
   ]
  },
  {
   "attachments": {},
   "cell_type": "markdown",
   "metadata": {},
   "source": [
    "## Wine Dataset"
   ]
  },
  {
   "attachments": {},
   "cell_type": "markdown",
   "metadata": {},
   "source": [
    "### MinMax Scaler"
   ]
  },
  {
   "cell_type": "code",
   "execution_count": 268,
   "metadata": {},
   "outputs": [
    {
     "name": "stdout",
     "output_type": "stream",
     "text": [
      "Test Set Score:  0.9814814814814815\n"
     ]
    }
   ],
   "source": [
    "grid_wine_minmax.fit(X_wine_train, y_wine_train)\n",
    "prediction_wine_minmax: np.ndarray = grid_wine_minmax.predict(X_wine_test)\n",
    "print(\"Test Set Score: \", grid_wine_minmax.score(X_wine_test, y_wine_test))\n",
    "# print(\"Test Set Score: \", np.mean(prediction_wine_minmax == y_wine_test))"
   ]
  },
  {
   "attachments": {},
   "cell_type": "markdown",
   "metadata": {},
   "source": [
    "### Standard Scaler"
   ]
  },
  {
   "cell_type": "code",
   "execution_count": 269,
   "metadata": {},
   "outputs": [
    {
     "name": "stdout",
     "output_type": "stream",
     "text": [
      "Test Set Score:  0.9814814814814815\n"
     ]
    }
   ],
   "source": [
    "grid_wine_standard.fit(X_wine_train, y_wine_train)\n",
    "prediction_wine_standard: np.ndarray = grid_wine_standard.predict(X_wine_test)\n",
    "print(\"Test Set Score: \", grid_wine_standard.score(X_wine_test, y_wine_test))"
   ]
  },
  {
   "attachments": {},
   "cell_type": "markdown",
   "metadata": {},
   "source": [
    "### Normalizer"
   ]
  },
  {
   "cell_type": "code",
   "execution_count": 270,
   "metadata": {},
   "outputs": [
    {
     "name": "stdout",
     "output_type": "stream",
     "text": [
      "Test Set Score:  0.9629629629629629\n"
     ]
    }
   ],
   "source": [
    "grid_wine_normalizer.fit(X_wine_train, y_wine_train)\n",
    "prediction_wine_normalizer: np.ndarray = grid_wine_normalizer.predict(X_wine_test)\n",
    "print(\"Test Set Score: \", grid_wine_normalizer.score(X_wine_test, y_wine_test))"
   ]
  },
  {
   "attachments": {},
   "cell_type": "markdown",
   "metadata": {},
   "source": [
    "### Robust Scalar"
   ]
  },
  {
   "cell_type": "code",
   "execution_count": 271,
   "metadata": {},
   "outputs": [
    {
     "name": "stdout",
     "output_type": "stream",
     "text": [
      "Test Set Score:  0.9814814814814815\n"
     ]
    }
   ],
   "source": [
    "grid_wine_robust.fit(X_wine_train, y_wine_train)\n",
    "prediction_wine_robust: np.ndarray = grid_wine_robust.predict(X_wine_test)\n",
    "print(\"Test Set Score: \", grid_wine_robust.score(X_wine_test, y_wine_test))"
   ]
  },
  {
   "attachments": {},
   "cell_type": "markdown",
   "metadata": {},
   "source": [
    "## Zip Dataset"
   ]
  },
  {
   "attachments": {},
   "cell_type": "markdown",
   "metadata": {},
   "source": [
    "### MinMax Scaler"
   ]
  },
  {
   "cell_type": "code",
   "execution_count": 272,
   "metadata": {},
   "outputs": [
    {
     "name": "stdout",
     "output_type": "stream",
     "text": [
      "Test Set Score:  0.5862068965517241\n"
     ]
    }
   ],
   "source": [
    "grid_zip_minmax.fit(X_zip_train, y_zip_train)\n",
    "prediction_zip_minmax: np.ndarray = grid_zip_minmax.predict(X_zip_test)\n",
    "print(\"Test Set Score: \", grid_zip_minmax.score(X_zip_test, y_zip_test))"
   ]
  },
  {
   "attachments": {},
   "cell_type": "markdown",
   "metadata": {},
   "source": [
    "### Standard Scaler"
   ]
  },
  {
   "cell_type": "code",
   "execution_count": 273,
   "metadata": {},
   "outputs": [
    {
     "name": "stdout",
     "output_type": "stream",
     "text": [
      "Test Set Score:  0.5517241379310345\n"
     ]
    }
   ],
   "source": [
    "grid_zip_standard.fit(X_zip_train, y_zip_train)\n",
    "prediction_zip_standard: np.ndarray = grid_zip_standard.predict(X_zip_test)\n",
    "print(\"Test Set Score: \", grid_zip_standard.score(X_zip_test, y_zip_test))"
   ]
  },
  {
   "attachments": {},
   "cell_type": "markdown",
   "metadata": {},
   "source": [
    "### Normalizer"
   ]
  },
  {
   "cell_type": "code",
   "execution_count": 274,
   "metadata": {},
   "outputs": [
    {
     "name": "stdout",
     "output_type": "stream",
     "text": [
      "Test Set Score:  0.5862068965517241\n"
     ]
    }
   ],
   "source": [
    "grid_zip_normalizer.fit(X_zip_train, y_zip_train)\n",
    "prediction_zip_normalizer: np.ndarray = grid_zip_normalizer.predict(X_zip_test)\n",
    "print(\"Test Set Score: \", grid_zip_normalizer.score(X_zip_test, y_zip_test))"
   ]
  },
  {
   "attachments": {},
   "cell_type": "markdown",
   "metadata": {},
   "source": [
    "### Robust Scaler"
   ]
  },
  {
   "cell_type": "code",
   "execution_count": 275,
   "metadata": {},
   "outputs": [
    {
     "name": "stdout",
     "output_type": "stream",
     "text": [
      "Test Set Score:  0.5862068965517241\n"
     ]
    }
   ],
   "source": [
    "grid_zip_robust.fit(X_zip_train, y_zip_train)\n",
    "prediction_zip_robust: np.ndarray = grid_zip_robust.predict(X_zip_test)\n",
    "print(\"Test Set Score: \", grid_zip_robust.score(X_zip_test, y_zip_test))"
   ]
  }
 ],
 "metadata": {
  "kernelspec": {
   "display_name": "Python 3.11.0 ('anaconda-pOKeClin-py3.11')",
   "language": "python",
   "name": "python3"
  },
  "language_info": {
   "codemirror_mode": {
    "name": "ipython",
    "version": 3
   },
   "file_extension": ".py",
   "mimetype": "text/x-python",
   "name": "python",
   "nbconvert_exporter": "python",
   "pygments_lexer": "ipython3",
   "version": "3.11.0"
  },
  "orig_nbformat": 4,
  "vscode": {
   "interpreter": {
    "hash": "892714c652f493a6d49359491524d2a8c982297775bb9a8664a3f7cea223b623"
   }
  }
 },
 "nbformat": 4,
 "nbformat_minor": 2
}
