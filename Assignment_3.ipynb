{
 "cells": [
  {
   "cell_type": "markdown",
   "metadata": {},
   "source": [
    "# Assignment 3 - CS3920"
   ]
  },
  {
   "cell_type": "code",
   "execution_count": 74,
   "metadata": {},
   "outputs": [],
   "source": [
    "from sklearn.datasets import load_wine\n",
    "from sklearn.model_selection import train_test_split, cross_val_score, GridSearchCV\n",
    "from sklearn.svm import SVC\n",
    "from sklearn.pipeline import Pipeline, make_pipeline\n",
    "from sklearn.preprocessing import StandardScaler, MinMaxScaler, Normalizer, RobustScaler\n",
    "from sklearn.base import BaseEstimator\n",
    "import matplotlib.pyplot as plt\n",
    "\n",
    "import numpy as np"
   ]
  },
  {
   "attachments": {},
   "cell_type": "markdown",
   "metadata": {},
   "source": [
    "- Global constants"
   ]
  },
  {
   "cell_type": "code",
   "execution_count": 75,
   "metadata": {},
   "outputs": [],
   "source": [
    "CV: int = 3\n",
    "RANDOM_STATE: int = 3103"
   ]
  },
  {
   "attachments": {},
   "cell_type": "markdown",
   "metadata": {},
   "source": [
    "# Useful Functions"
   ]
  },
  {
   "attachments": {},
   "cell_type": "markdown",
   "metadata": {},
   "source": [
    "## Convert Dictionary to String"
   ]
  },
  {
   "attachments": {},
   "cell_type": "markdown",
   "metadata": {},
   "source": [
    "- Takes a dictionary and creates a nice string representation \n",
    "- Each key and value are printed with consistent spacing between them"
   ]
  },
  {
   "cell_type": "code",
   "execution_count": 76,
   "metadata": {},
   "outputs": [],
   "source": [
    "def dictionary_to_string(dictionary: dict) -> str:\n",
    "\t\"\"\"Creates a formatted string from a dictionary.\n",
    "\n",
    "\tArgs:\n",
    "\t\tdictionary (dict): dictionary to be formatted\n",
    "\n",
    "\tReturns:\n",
    "\t\tstr: formatted string\n",
    "\t\"\"\"\t\n",
    "\t# Get the keys and values from the dictionary\n",
    "\tkeys: list[str] = list(dictionary.keys())\n",
    "\tvalues: list[float, dict] = list(dictionary.values())\n",
    "\n",
    "\t# Get the column widths\n",
    "\tcolumn_widths: list[int] = [\n",
    "\t\tmax([len(str(key)), len(str(value))])\n",
    "\t\tfor key, value in zip(keys, values)\n",
    "\t]\n",
    "\n",
    "\t# Create the formatted rows\n",
    "\tformatted_rows: list[str] = []\n",
    "\tfor key, value in zip(keys, values):\n",
    "\t\t# Create a list of formatted column values\n",
    "\t\tformatted_columns: list[str] = [\n",
    "\t\t\tf\"{key:{column_widths[0]}}\\t {value:{column_widths[1]}}\"\n",
    "\t\t]\n",
    "\t\t# Join the formatted columns into a single string\n",
    "\t\tformatted_row: str = \" | \".join(formatted_columns)\n",
    "\t\tformatted_rows.append(formatted_row)\n",
    "\n",
    "\t# Join the formatted rows into a single string\n",
    "\tformatted_table = \"\\n\".join(formatted_rows)\n",
    "\treturn formatted_table\t\t"
   ]
  },
  {
   "attachments": {},
   "cell_type": "markdown",
   "metadata": {},
   "source": [
    "# Loading Datasets"
   ]
  },
  {
   "attachments": {},
   "cell_type": "markdown",
   "metadata": {},
   "source": [
    "**Question 1**"
   ]
  },
  {
   "attachments": {},
   "cell_type": "markdown",
   "metadata": {},
   "source": [
    "## Loading Wine Dataset"
   ]
  },
  {
   "cell_type": "code",
   "execution_count": 77,
   "metadata": {},
   "outputs": [],
   "source": [
    "wine: np.ndarray = load_wine()\n",
    "X_wine: np.ndarray = wine.data\n",
    "y_wine: np.ndarray = wine.target"
   ]
  },
  {
   "attachments": {},
   "cell_type": "markdown",
   "metadata": {},
   "source": [
    "## Loading USPS Dataset"
   ]
  },
  {
   "cell_type": "code",
   "execution_count": 78,
   "metadata": {},
   "outputs": [],
   "source": [
    "DATA_SPLIT: int = 10 # percentage of data to be used "
   ]
  },
  {
   "cell_type": "code",
   "execution_count": 79,
   "metadata": {},
   "outputs": [],
   "source": [
    "zip_train: np.ndarray = np.genfromtxt('zip.train', delimiter=' ')\n",
    "zip_train = zip_train[::DATA_SPLIT]\n",
    "\n",
    "zip_test: np.ndarray = np.genfromtxt('zip.test', delimiter=' ')\n",
    "zip_test = zip_test[::DATA_SPLIT]\n",
    "\n",
    "zip_data: np.ndarray = np.concatenate((zip_train, zip_test), axis=0)\n",
    "zip_data = zip_data[::DATA_SPLIT]\n",
    "\n",
    "X_zip: np.ndarray = zip_data[:, 1:]\n",
    "y_zip: np.ndarray = zip_data[:, 0]"
   ]
  },
  {
   "cell_type": "code",
   "execution_count": 80,
   "metadata": {},
   "outputs": [],
   "source": [
    "del zip_train, zip_test"
   ]
  },
  {
   "attachments": {},
   "cell_type": "markdown",
   "metadata": {},
   "source": [
    "# Splitting Datasets "
   ]
  },
  {
   "attachments": {},
   "cell_type": "markdown",
   "metadata": {},
   "source": [
    "**Question 2**"
   ]
  },
  {
   "attachments": {},
   "cell_type": "markdown",
   "metadata": {},
   "source": [
    "- This functions splits the dataset into training set and test set for each matrix of features `X` and labels  `y`\n",
    "- It takes the features `X` and labels `y` and returns the split data"
   ]
  },
  {
   "cell_type": "code",
   "execution_count": 81,
   "metadata": {},
   "outputs": [],
   "source": [
    "def split(X: np.ndarray, y: np.ndarray) -> tuple[np.ndarray[float]]:\n",
    "\t\"\"\"Splits the dataset into training and testing sets.\n",
    "\n",
    "\tArgs:\n",
    "\t\tX (np.ndarray): matrix of features\n",
    "\t\ty (np.ndarray): labels \n",
    "\n",
    "\tReturns:\n",
    "\t\ttuple[np.ndarray[float]]: X and y training and testing sets (4 in total)\n",
    "\t\"\"\"\t\n",
    "\treturn train_test_split(X, y, test_size=0.3, random_state=RANDOM_STATE)\n",
    "\t"
   ]
  },
  {
   "attachments": {},
   "cell_type": "markdown",
   "metadata": {},
   "source": [
    "## Splitting Wine Dataset"
   ]
  },
  {
   "cell_type": "code",
   "execution_count": 82,
   "metadata": {},
   "outputs": [],
   "source": [
    "X_wine_train, X_wine_test, y_wine_train, y_wine_test = split(X_wine, y_wine)"
   ]
  },
  {
   "attachments": {},
   "cell_type": "markdown",
   "metadata": {},
   "source": [
    "## Splitting USPS Dataset"
   ]
  },
  {
   "cell_type": "code",
   "execution_count": 83,
   "metadata": {},
   "outputs": [],
   "source": [
    "X_zip_train, X_zip_test, y_zip_train, y_zip_test = split(X_zip, y_zip)"
   ]
  },
  {
   "attachments": {},
   "cell_type": "markdown",
   "metadata": {},
   "source": [
    "# Cross Validation"
   ]
  },
  {
   "cell_type": "code",
   "execution_count": 84,
   "metadata": {},
   "outputs": [],
   "source": [
    "class Cross_Validation:\n",
    "\tdef __init__ (self, X_train: np.ndarray, y_train: np.ndarray, X_test: np.ndarray, y_test: np.ndarray):\n",
    "\t\tself.X_train = X_train\n",
    "\t\tself.y_train = y_train\n",
    "\t\tself.X_test = X_test\n",
    "\t\tself.y_test = y_test\n",
    "\t\tself.svm: SVC = SVC()\n",
    "\t\tself.svm.fit(self.X_train, self.y_train)\n",
    "\n",
    "\tdef scores_list(self) -> float:\n",
    "\t\treturn cross_val_score(self.svm, self.X_train, self.y_train, cv=CV)\n",
    "\n",
    "\t@property\n",
    "\tdef score(self) -> float:\n",
    "\t\tscores: np.ndarray = cross_val_score(self.svm, self.X_train, self.y_train, cv=CV)\n",
    "\t\treturn (self.scores_list()).mean()\n",
    "\n",
    "\t@property\n",
    "\tdef error_rate(self) -> float:\n",
    "\t\treturn (1 - self.score)\n",
    "\n",
    "\t@property\n",
    "\tdef test_score(self) -> float:\n",
    "\t\treturn self.svm.score(self.X_test, self.y_test)\n",
    "\n",
    "\t@property\n",
    "\tdef test_error_rate(self) -> float:\n",
    "\t\treturn (1 - self.test_score)\n",
    "\n",
    "\tdef __str__(self) -> str:\n",
    "\t\tdata: dict = {\n",
    "\t\t\t\"Score\": self.score,\n",
    "\t\t\t\"Error Rate\": self.error_rate,\n",
    "\t\t\t\"Test Score\": self.test_score,\n",
    "\t\t\t\"Test Error Rate\": self.test_error_rate\n",
    "\t\t}\n",
    "\t\treturn dictionary_to_string(data)\t"
   ]
  },
  {
   "attachments": {},
   "cell_type": "markdown",
   "metadata": {},
   "source": [
    "**Question 3 and 4**\n",
    "\n",
    "3. `Score` = Estimation of accuracy parameter\n",
    "4. `Test Error Rate` = Test error rate of the SVM"
   ]
  },
  {
   "attachments": {},
   "cell_type": "markdown",
   "metadata": {},
   "source": [
    "## Cross Validate Wine"
   ]
  },
  {
   "cell_type": "code",
   "execution_count": 85,
   "metadata": {},
   "outputs": [
    {
     "name": "stdout",
     "output_type": "stream",
     "text": [
      "Score             \t 0.6533101045296168\n",
      "Error Rate        \t 0.3466898954703832\n",
      "Test Score        \t 0.7222222222222222\n",
      "Test Error Rate   \t 0.2777777777777778\n"
     ]
    }
   ],
   "source": [
    "wine_cross_validation: Cross_Validation = Cross_Validation(X_wine_train, y_wine_train, X_wine_test, y_wine_test)\n",
    "print(wine_cross_validation)"
   ]
  },
  {
   "attachments": {},
   "cell_type": "markdown",
   "metadata": {},
   "source": [
    "## Cross Validate USPS"
   ]
  },
  {
   "cell_type": "code",
   "execution_count": 86,
   "metadata": {},
   "outputs": [
    {
     "name": "stdout",
     "output_type": "stream",
     "text": [
      "Score            \t 0.660894660894661\n",
      "Error Rate       \t 0.339105339105339\n",
      "Test Score       \t 0.5517241379310345\n",
      "Test Error Rate  \t 0.4482758620689655\n"
     ]
    }
   ],
   "source": [
    "zip_cross_validation: Cross_Validation = Cross_Validation(X_zip_train, y_zip_train, X_zip_test, y_zip_test)\n",
    "print(zip_cross_validation)"
   ]
  },
  {
   "attachments": {},
   "cell_type": "markdown",
   "metadata": {},
   "source": [
    "# Pipeline"
   ]
  },
  {
   "attachments": {},
   "cell_type": "markdown",
   "metadata": {},
   "source": [
    "**Question 5**"
   ]
  },
  {
   "attachments": {},
   "cell_type": "markdown",
   "metadata": {},
   "source": [
    "## Dictionary of Hyperparameters"
   ]
  },
  {
   "attachments": {},
   "cell_type": "markdown",
   "metadata": {},
   "source": [
    "- Dictionary containing a grid of hyperparameters to be used in a grid search.\n",
    "- The grid contains two hyperparameters: \n",
    "  - `C` (`svc__C`) - determines the strength of regularization, or the penalty applied to the model for making incorrect predictions\n",
    "    - Larger gamma value means that the model is more non-linear, resulting in a more complex and potentially overfitting model\n",
    "    - Smaller gamma value means that the model is more linear, resulting in a simpler and potentially underfitting model\n",
    "  - `gamma` (`svc__gamma`) - determines the strength of the non-linearity of the model\n",
    "    - Larger gamma value means that the model is more non-linear, resulting in a more complex and potentially overfitting model\n",
    "    - Smaller gamma value means that the model is more linear, resulting in a simpler and potentially underfitting model"
   ]
  },
  {
   "cell_type": "code",
   "execution_count": 87,
   "metadata": {},
   "outputs": [],
   "source": [
    "param_grid: dict[str, list[float]] = {\n",
    "\t'svc__C': [0.001, 0.01, 0.1, 1, 10, 100], \n",
    "\t'svc__gamma': [0.001, 0.01, 0.1, 1, 10, 100]\n",
    "}"
   ]
  },
  {
   "attachments": {},
   "cell_type": "markdown",
   "metadata": {},
   "source": [
    "- Creates a pipeline with Support Vector Correlation (SVC) and some specified scaler (normalizer)\n",
    "- It takes the training and test data\n",
    "- Uses Grid Search and Cross-Validation to tune parameters `C` and `gamma`"
   ]
  },
  {
   "attachments": {},
   "cell_type": "markdown",
   "metadata": {},
   "source": [
    "## Algorithm"
   ]
  },
  {
   "attachments": {},
   "cell_type": "markdown",
   "metadata": {},
   "source": [
    "- Creates a model that uses a support vector machine (SVM) classifier with a scaler and performs a grid search\n",
    "- Uses a pipeline to chain the scaler and the `SVM` classifier\n",
    "- There are several methods:\n",
    "  - `best_score` - Computes the score of the predictions made on the test set\n",
    "    - Can be used to compare the performance of different models or to choose the final model to use for making predictions on new data\n",
    "  - `best_params` - Identifies the set of hyperparameters that produce the best performance.\n",
    "    - Can be used to choose the final model to use for making predictions on new data\n",
    "  - `test_score` - Computes the score of the predictions made on the test set\n",
    "    - It applies the trained model to the test data and returns a score that indicates how well the model is able to make predictions on the test data\n",
    "    - Can then be used to choose the final model to use for making predictions on new data\n",
    "  - `error_rate` - Computes the error rate of the predictions made on the test set\n",
    "    - $1-score$\n",
    "    - Hence the points about `test_score` still apply"
   ]
  },
  {
   "cell_type": "code",
   "execution_count": 88,
   "metadata": {},
   "outputs": [],
   "source": [
    "class Super_Pipeline:\n",
    "\t\"\"\"Creates a model that uses a support vector machine (SVM) classifier with a scaler and performs a grid search. \n",
    "\tUses a pipeline to chain the scaler and the `SVM` classifier.\n",
    "\t\"\"\"\t\n",
    "\tdef __init__ (self, param_grid: dict[str, list[float]], scaler: BaseEstimator, X_train: np.ndarray[float], y_train: np.ndarray[float], X_test: np.ndarray[float], y_test: np.ndarray[float]):\t\n",
    "\t\tself.pipeline: Pipeline = make_pipeline(scaler(), SVC())\n",
    "\t\tself.grid: GridSearchCV = GridSearchCV(self.pipeline, param_grid, cv=CV)\n",
    "\t\tself.grid.fit(X_train, y_train)\n",
    "\t\tself.X_train: np.ndarray[float] = X_train\n",
    "\t\tself.y_train: np.ndarray[float] = y_train\n",
    "\t\tself.X_test: np.ndarray[float] = X_test\n",
    "\t\tself.y_test: np.ndarray[float] = y_test\n",
    "\t\t\n",
    "\t@property\n",
    "\tdef best_score(self) -> float:\n",
    "\t\t\"\"\"Computes the score that was obtained using the best set of hyperparameters. \n",
    "\n",
    "\t\tReturns:\n",
    "\t\t\tfloat: best score\n",
    "\t\t\"\"\"\t\t\n",
    "\t\treturn self.grid.best_score_\n",
    "\n",
    "\t@property\n",
    "\tdef best_params(self) -> dict[str, float]:\n",
    "\t\t\"\"\"Identifies the set of hyperparameters that produce the best performance. \n",
    "\n",
    "\t\tReturns:\n",
    "\t\t\tdict[str, float]: best parameters\n",
    "\t\t\"\"\"\t\t\n",
    "\t\treturn self.grid.best_params_\n",
    "\n",
    "\t@property\n",
    "\tdef test_score(self) -> float:\n",
    "\t\t\"\"\"Computes the score of the predictions made on the test set.\n",
    "\n",
    "\n",
    "\t\tReturns:\n",
    "\t\t\tfloat: score of the predictions made on the test set\n",
    "\t\t\"\"\"\t\t\n",
    "\t\treturn self.grid.score(self.X_test, self.y_test)\n",
    "\n",
    "\t@property\n",
    "\tdef error_rate(self) -> float:\n",
    "\t\t\"\"\"Computes the error rate of the predictions made on the test set.\n",
    "\n",
    "\t\tReturns:\n",
    "\t\t\tfloat: error rate of the predictions made on the test set\n",
    "\t\t\"\"\"\t\t\n",
    "\t\treturn (1 - self.best_score)\n",
    "\n",
    "\tdef __str__(self) -> str:\n",
    "\t\t\"\"\"Returns a string representation of the object.\n",
    "\t\t- Best cross-validation score\n",
    "\t\t- Best parameters\n",
    "\t\t- Test set score\n",
    "\t\t- Test Set Error Rate\n",
    "\n",
    "\t\tReturns:\n",
    "\t\t\tstr: string representation of the object\n",
    "\t\t\"\"\"\t\n",
    "\t\tdata: dict = {\n",
    "\t\t\t\"Best Cross-Validation Score\": f\"{self.best_score}\",\n",
    "\t\t\t\"Best Parameters\": f\"{self.best_params}\",\n",
    "\t\t\t\"Test Set Score\": f\"{self.test_score}\",\n",
    "\t\t\t\"Test Set Error Rate\": f\"{self.error_rate}\"\n",
    "\t\t}\n",
    "\t\treturn dictionary_to_string(data)"
   ]
  },
  {
   "attachments": {},
   "cell_type": "markdown",
   "metadata": {},
   "source": [
    "## Wine Dataset"
   ]
  },
  {
   "attachments": {},
   "cell_type": "markdown",
   "metadata": {},
   "source": [
    "### MinMax Scaler"
   ]
  },
  {
   "cell_type": "code",
   "execution_count": 89,
   "metadata": {},
   "outputs": [
    {
     "name": "stdout",
     "output_type": "stream",
     "text": [
      "Best Cross-Validation Score\t 0.991869918699187                \n",
      "Best Parameters            \t {'svc__C': 10, 'svc__gamma': 0.1}\n",
      "Test Set Score             \t 0.9814814814814815               \n",
      "Test Set Error Rate        \t 0.008130081300813052             \n"
     ]
    }
   ],
   "source": [
    "wine_super_pipe_minmax: Super_Pipeline = Super_Pipeline(param_grid, MinMaxScaler, X_wine_train, y_wine_train, X_wine_test, y_wine_test)\n",
    "print(wine_super_pipe_minmax)"
   ]
  },
  {
   "attachments": {},
   "cell_type": "markdown",
   "metadata": {},
   "source": [
    "### Standard Scaler"
   ]
  },
  {
   "cell_type": "code",
   "execution_count": 90,
   "metadata": {},
   "outputs": [
    {
     "name": "stdout",
     "output_type": "stream",
     "text": [
      "Best Cross-Validation Score\t 0.983933410762679                   \n",
      "Best Parameters            \t {'svc__C': 100, 'svc__gamma': 0.001}\n",
      "Test Set Score             \t 0.9814814814814815                  \n",
      "Test Set Error Rate        \t 0.01606658923732096                 \n"
     ]
    }
   ],
   "source": [
    "wine_super_pipe_standard: Super_Pipeline = Super_Pipeline(param_grid, StandardScaler, X_wine_train, y_wine_train, X_wine_test, y_wine_test)\n",
    "print(wine_super_pipe_standard)"
   ]
  },
  {
   "attachments": {},
   "cell_type": "markdown",
   "metadata": {},
   "source": [
    "### Normalizer"
   ]
  },
  {
   "cell_type": "code",
   "execution_count": 91,
   "metadata": {},
   "outputs": [
    {
     "name": "stdout",
     "output_type": "stream",
     "text": [
      "Best Cross-Validation Score\t 0.927022841656988                 \n",
      "Best Parameters            \t {'svc__C': 100, 'svc__gamma': 100}\n",
      "Test Set Score             \t 0.9629629629629629                \n",
      "Test Set Error Rate        \t 0.072977158343012                 \n"
     ]
    }
   ],
   "source": [
    "wine_super_pipe_normalizer: Super_Pipeline = Super_Pipeline(param_grid, Normalizer, X_wine_train, y_wine_train, X_wine_test, y_wine_test)\n",
    "print(wine_super_pipe_normalizer)"
   ]
  },
  {
   "attachments": {},
   "cell_type": "markdown",
   "metadata": {},
   "source": [
    "### Robust Scaler"
   ]
  },
  {
   "cell_type": "code",
   "execution_count": 92,
   "metadata": {},
   "outputs": [
    {
     "name": "stdout",
     "output_type": "stream",
     "text": [
      "Best Cross-Validation Score\t 0.983739837398374                 \n",
      "Best Parameters            \t {'svc__C': 10, 'svc__gamma': 0.01}\n",
      "Test Set Score             \t 0.9814814814814815                \n",
      "Test Set Error Rate        \t 0.016260162601625994              \n"
     ]
    }
   ],
   "source": [
    "wine_super_pipe_robust: Super_Pipeline = Super_Pipeline(param_grid, RobustScaler, X_wine_train, y_wine_train, X_wine_test, y_wine_test)\n",
    "print(wine_super_pipe_robust)"
   ]
  },
  {
   "attachments": {},
   "cell_type": "markdown",
   "metadata": {},
   "source": [
    "### Comparison"
   ]
  },
  {
   "cell_type": "code",
   "execution_count": 93,
   "metadata": {},
   "outputs": [],
   "source": [
    "class Graph_Comparisons:\n",
    "\tdef __init__ (self, super_pipes: dict[str, Super_Pipeline], best_params: dict[str, float]):\n",
    "\t\tself.super_pipes: dict[str, Super_Pipeline] = super_pipes\n",
    "\t\tself.best_params: dict[str, float] = best_params\n",
    "\n",
    "\tdef cross_validation_score(self, lower_bound: float, upper_bound: float) -> None:\n",
    "\t\tscores: dict = {key: pipe.best_score for key, pipe in self.super_pipes.items()}\n",
    "\t\tprint(dictionary_to_string(scores))\n",
    "\n",
    "\t\tplt.bar(self.super_pipes.keys(), [pipe.best_score for pipe in self.super_pipes.values()])\n",
    "\t\tplt.ylabel(\"Cross-Validation Accuracy\")\n",
    "\t\tplt.xlabel(\"Scaler\")\n",
    "\t\tplt.ylim(lower_bound, upper_bound)\n",
    "\t\tplt.show()\n",
    "\n",
    "\tdef test_score(self, lower_bound: float, upper_bound: float) -> None:\n",
    "\t\terror_rates: dict[str, float] = {key: pipe.error_rate for key, pipe in self.super_pipes.items()}\n",
    "\t\tprint(dictionary_to_string(error_rates))\n",
    "\n",
    "\t\tplt.bar(error_rates.keys(), error_rates.values())\n",
    "\t\tplt.ylabel(\"Test Set Error Rate\")\n",
    "\t\tplt.xlabel(\"Scaler\")\n",
    "\t\tplt.ylim(lower_bound, upper_bound)\n",
    "\t\tplt.show()\n",
    "\n",
    "\tdef best_parameter_C(self) -> None:\n",
    "\t\tbest_C: dict[str, float] = {key: pipe.best_params['svc__C'] for key, pipe in self.super_pipes.items()}\n",
    "\t\tprint(dictionary_to_string(best_C))\n",
    "\n",
    "\t\tplt.bar(self.super_pipes.keys(), [pipe.best_params['svc__C'] for pipe in self.super_pipes.values()])\n",
    "\t\tplt.bar(self.super_pipes.keys(), [pipe.best_params['svc__C'] for pipe in self.super_pipes.values()])\n",
    "\t\tplt.ylabel(\"Best Parameter C\")\n",
    "\t\tplt.xlabel(\"Scaler\")\n",
    "\t\tplt.show()\n",
    "\n",
    "\tdef best_parameter_gamma(self) -> None:\n",
    "\t\tbest_gamma: dict[str, float] = {key: pipe.best_params['svc__gamma'] for key, pipe in self.super_pipes.items()}\n",
    "\t\tprint(dictionary_to_string(best_gamma))\n",
    "\n",
    "\t\tplt.loglog(self.super_pipes.keys(), [pipe.best_params['svc__gamma'] for pipe in self.super_pipes.values()])\n",
    "\t\tplt.ylabel(\"Best Parameter Gamma\")\n",
    "\t\tplt.xlabel(\"Scaler\")\n",
    "\t\tplt.xscale(\"log\")\n",
    "\t\tplt.show()"
   ]
  },
  {
   "attachments": {},
   "cell_type": "markdown",
   "metadata": {},
   "source": [
    "#### Best Cross-Validation Score"
   ]
  },
  {
   "cell_type": "code",
   "execution_count": 94,
   "metadata": {},
   "outputs": [],
   "source": [
    "wine_super_pipes: dict[str, Super_Pipeline] = {\n",
    "\t\"MinMaxScaler\": wine_super_pipe_minmax,\n",
    "\t\"StandardScaler\": wine_super_pipe_standard,\n",
    "\t\"Normalizer\": wine_super_pipe_normalizer,\n",
    "\t\"RobustScaler\": wine_super_pipe_robust\n",
    "}\n",
    "wine_graph: Graph_Comparisons = Graph_Comparisons(wine_super_pipes, param_grid)"
   ]
  },
  {
   "cell_type": "code",
   "execution_count": 95,
   "metadata": {},
   "outputs": [
    {
     "name": "stdout",
     "output_type": "stream",
     "text": [
      "MinMaxScaler     \t 0.991869918699187\n",
      "StandardScaler   \t 0.983933410762679\n",
      "Normalizer       \t 0.927022841656988\n",
      "RobustScaler     \t 0.983739837398374\n"
     ]
    },
    {
     "data": {
      "image/png": "[encoded data removed]",
      "text/plain": [
       "<Figure size 640x480 with 1 Axes>"
      ]
     },
     "metadata": {},
     "output_type": "display_data"
    }
   ],
   "source": [
    "wine_graph.cross_validation_score(0.9, 1.0)"
   ]
  },
  {
   "attachments": {},
   "cell_type": "markdown",
   "metadata": {},
   "source": [
    "#### Best Parameters"
   ]
  },
  {
   "cell_type": "code",
   "execution_count": 96,
   "metadata": {},
   "outputs": [
    {
     "name": "stdout",
     "output_type": "stream",
     "text": [
      "MinMaxScaler\t             10\n",
      "StandardScaler\t            100\n",
      "Normalizer  \t            100\n",
      "RobustScaler\t             10\n"
     ]
    },
    {
     "data": {
      "image/png": "[encoded data removed]",
      "text/plain": [
       "<Figure size 640x480 with 1 Axes>"
      ]
     },
     "metadata": {},
     "output_type": "display_data"
    }
   ],
   "source": [
    "wine_graph.best_parameter_C()"
   ]
  },
  {
   "cell_type": "code",
   "execution_count": 97,
   "metadata": {},
   "outputs": [
    {
     "name": "stdout",
     "output_type": "stream",
     "text": [
      "MinMaxScaler\t            0.1\n",
      "StandardScaler\t          0.001\n",
      "Normalizer  \t            100\n",
      "RobustScaler\t           0.01\n"
     ]
    },
    {
     "data": {
      "image/png": "[encoded data removed]",
      "text/plain": [
       "<Figure size 640x480 with 1 Axes>"
      ]
     },
     "metadata": {},
     "output_type": "display_data"
    }
   ],
   "source": [
    "wine_graph.best_parameter_gamma()"
   ]
  },
  {
   "attachments": {},
   "cell_type": "markdown",
   "metadata": {},
   "source": [
    "#### Test Set Score"
   ]
  },
  {
   "cell_type": "code",
   "execution_count": 98,
   "metadata": {},
   "outputs": [
    {
     "name": "stdout",
     "output_type": "stream",
     "text": [
      "MinMaxScaler        \t 0.008130081300813052\n",
      "StandardScaler      \t 0.01606658923732096\n",
      "Normalizer          \t   0.072977158343012\n",
      "RobustScaler        \t 0.016260162601625994\n"
     ]
    },
    {
     "data": {
      "image/png": "[encoded data removed]",
      "text/plain": [
       "<Figure size 640x480 with 1 Axes>"
      ]
     },
     "metadata": {},
     "output_type": "display_data"
    }
   ],
   "source": [
    "wine_graph.test_score(0.005, 0.08)"
   ]
  },
  {
   "attachments": {},
   "cell_type": "markdown",
   "metadata": {},
   "source": [
    "## USPS Dataset"
   ]
  },
  {
   "attachments": {},
   "cell_type": "markdown",
   "metadata": {},
   "source": [
    "### MinMax Scaler"
   ]
  },
  {
   "cell_type": "code",
   "execution_count": 99,
   "metadata": {},
   "outputs": [
    {
     "name": "stdout",
     "output_type": "stream",
     "text": [
      "Best Cross-Validation Score\t 0.7373737373737373                  \n",
      "Best Parameters            \t {'svc__C': 100, 'svc__gamma': 0.001}\n",
      "Test Set Score             \t 0.5862068965517241                  \n",
      "Test Set Error Rate        \t 0.26262626262626265                 \n"
     ]
    }
   ],
   "source": [
    "zip_super_pipe_minmax: Super_Pipeline = Super_Pipeline(param_grid, MinMaxScaler, X_zip_train, y_zip_train, X_zip_test, y_zip_test)\n",
    "print(zip_super_pipe_minmax)"
   ]
  },
  {
   "attachments": {},
   "cell_type": "markdown",
   "metadata": {},
   "source": [
    "### Standard Scaler"
   ]
  },
  {
   "cell_type": "code",
   "execution_count": 100,
   "metadata": {},
   "outputs": [
    {
     "name": "stdout",
     "output_type": "stream",
     "text": [
      "Best Cross-Validation Score\t 0.7070707070707071                 \n",
      "Best Parameters            \t {'svc__C': 10, 'svc__gamma': 0.001}\n",
      "Test Set Score             \t 0.5517241379310345                 \n",
      "Test Set Error Rate        \t 0.29292929292929293                \n"
     ]
    }
   ],
   "source": [
    "zip_super_pipe_standard: Super_Pipeline = Super_Pipeline(param_grid, StandardScaler, X_zip_train, y_zip_train, X_zip_test, y_zip_test)\n",
    "print(zip_super_pipe_standard)"
   ]
  },
  {
   "attachments": {},
   "cell_type": "markdown",
   "metadata": {},
   "source": [
    "### Normalizer"
   ]
  },
  {
   "cell_type": "code",
   "execution_count": 101,
   "metadata": {},
   "outputs": [
    {
     "name": "stdout",
     "output_type": "stream",
     "text": [
      "Best Cross-Validation Score\t 0.4437229437229437                  \n",
      "Best Parameters            \t {'svc__C': 100, 'svc__gamma': 0.001}\n",
      "Test Set Score             \t 0.5862068965517241                  \n",
      "Test Set Error Rate        \t 0.5562770562770563                  \n"
     ]
    }
   ],
   "source": [
    "zip_super_pipe_robust: Super_Pipeline = Super_Pipeline(param_grid, RobustScaler, X_zip_train, y_zip_train, X_zip_test, y_zip_test)\n",
    "print(zip_super_pipe_robust)"
   ]
  },
  {
   "attachments": {},
   "cell_type": "markdown",
   "metadata": {},
   "source": [
    "### Robust Scaler"
   ]
  },
  {
   "cell_type": "code",
   "execution_count": 102,
   "metadata": {},
   "outputs": [
    {
     "name": "stdout",
     "output_type": "stream",
     "text": [
      "Best Cross-Validation Score\t 0.7532467532467533                \n",
      "Best Parameters            \t {'svc__C': 100, 'svc__gamma': 0.1}\n",
      "Test Set Score             \t 0.5862068965517241                \n",
      "Test Set Error Rate        \t 0.24675324675324672               \n"
     ]
    }
   ],
   "source": [
    "zip_super_pipe_normalizer: Super_Pipeline = Super_Pipeline(param_grid, Normalizer, X_zip_train, y_zip_train, X_zip_test, y_zip_test)\n",
    "print(zip_super_pipe_normalizer)"
   ]
  },
  {
   "attachments": {},
   "cell_type": "markdown",
   "metadata": {},
   "source": [
    "### Comparison"
   ]
  },
  {
   "attachments": {},
   "cell_type": "markdown",
   "metadata": {},
   "source": [
    "#### Best Cross-Validation Score"
   ]
  },
  {
   "cell_type": "code",
   "execution_count": 117,
   "metadata": {},
   "outputs": [],
   "source": [
    "zip_super_pipes: dict[str, Super_Pipeline] = {\n",
    "\t\"MinMaxScaler\": zip_super_pipe_minmax,\n",
    "\t\"StandardScaler\": zip_super_pipe_standard,\n",
    "\t\"Normalizer\": zip_super_pipe_normalizer,\n",
    "\t\"RobustScaler\": zip_super_pipe_robust\n",
    "}\n",
    "\n",
    "zip_graph: Graph_Comparisons = Graph_Comparisons(zip_super_pipes, param_grid)"
   ]
  },
  {
   "cell_type": "code",
   "execution_count": 118,
   "metadata": {},
   "outputs": [
    {
     "name": "stdout",
     "output_type": "stream",
     "text": [
      "MinMaxScaler      \t 0.7373737373737373\n",
      "StandardScaler    \t 0.7070707070707071\n",
      "Normalizer        \t 0.7532467532467533\n",
      "RobustScaler      \t 0.4437229437229437\n"
     ]
    },
    {
     "data": {
      "image/png": "[encoded data removed]",
      "text/plain": [
       "<Figure size 640x480 with 1 Axes>"
      ]
     },
     "metadata": {},
     "output_type": "display_data"
    }
   ],
   "source": [
    "zip_graph.cross_validation_score(0.4, 0.8)"
   ]
  },
  {
   "attachments": {},
   "cell_type": "markdown",
   "metadata": {},
   "source": [
    "#### Best Parameters"
   ]
  },
  {
   "cell_type": "code",
   "execution_count": 119,
   "metadata": {},
   "outputs": [
    {
     "name": "stdout",
     "output_type": "stream",
     "text": [
      "MinMaxScaler\t            100\n",
      "StandardScaler\t             10\n",
      "Normalizer  \t            100\n",
      "RobustScaler\t            100\n"
     ]
    },
    {
     "data": {
      "image/png": "[encoded data removed]",
      "text/plain": [
       "<Figure size 640x480 with 1 Axes>"
      ]
     },
     "metadata": {},
     "output_type": "display_data"
    }
   ],
   "source": [
    "zip_graph.best_parameter_C()"
   ]
  },
  {
   "cell_type": "code",
   "execution_count": 120,
   "metadata": {},
   "outputs": [
    {
     "name": "stdout",
     "output_type": "stream",
     "text": [
      "MinMaxScaler\t            100\n",
      "StandardScaler\t             10\n",
      "Normalizer  \t            100\n",
      "RobustScaler\t            100\n"
     ]
    },
    {
     "data": {
      "image/png": "[encoded data removed]",
      "text/plain": [
       "<Figure size 640x480 with 1 Axes>"
      ]
     },
     "metadata": {},
     "output_type": "display_data"
    }
   ],
   "source": [
    "zip_graph.best_parameter_C()"
   ]
  },
  {
   "attachments": {},
   "cell_type": "markdown",
   "metadata": {},
   "source": [
    "#### Test Set Score"
   ]
  },
  {
   "cell_type": "code",
   "execution_count": 121,
   "metadata": {},
   "outputs": [
    {
     "name": "stdout",
     "output_type": "stream",
     "text": [
      "MinMaxScaler       \t 0.26262626262626265\n",
      "StandardScaler     \t 0.29292929292929293\n",
      "Normalizer         \t 0.24675324675324672\n",
      "RobustScaler       \t  0.5562770562770563\n"
     ]
    },
    {
     "data": {
      "image/png": "[encoded data removed]",
      "text/plain": [
       "<Figure size 640x480 with 1 Axes>"
      ]
     },
     "metadata": {},
     "output_type": "display_data"
    }
   ],
   "source": [
    "zip_graph.test_score(0.2, 0.6)"
   ]
  },
  {
   "attachments": {},
   "cell_type": "markdown",
   "metadata": {},
   "source": [
    "# 6 - Predict Test Labels"
   ]
  },
  {
   "attachments": {},
   "cell_type": "markdown",
   "metadata": {},
   "source": [
    "## Wine Dataset"
   ]
  },
  {
   "attachments": {},
   "cell_type": "markdown",
   "metadata": {},
   "source": [
    "### MinMax Scaler"
   ]
  },
  {
   "cell_type": "code",
   "execution_count": 107,
   "metadata": {},
   "outputs": [
    {
     "name": "stdout",
     "output_type": "stream",
     "text": [
      "Test Set Score:  0.9814814814814815\n"
     ]
    }
   ],
   "source": [
    "print(\"Test Set Score: \", wine_super_pipe_minmax.test_score)"
   ]
  },
  {
   "attachments": {},
   "cell_type": "markdown",
   "metadata": {},
   "source": [
    "### Standard Scaler"
   ]
  },
  {
   "cell_type": "code",
   "execution_count": 108,
   "metadata": {},
   "outputs": [
    {
     "name": "stdout",
     "output_type": "stream",
     "text": [
      "Test Set Score:  0.9814814814814815\n"
     ]
    }
   ],
   "source": [
    "print(\"Test Set Score: \", wine_super_pipe_standard.test_score)"
   ]
  },
  {
   "attachments": {},
   "cell_type": "markdown",
   "metadata": {},
   "source": [
    "### Normalizer"
   ]
  },
  {
   "cell_type": "code",
   "execution_count": 109,
   "metadata": {},
   "outputs": [
    {
     "name": "stdout",
     "output_type": "stream",
     "text": [
      "Test Set Score:  0.9629629629629629\n"
     ]
    }
   ],
   "source": [
    "print(\"Test Set Score: \", wine_super_pipe_normalizer.test_score)"
   ]
  },
  {
   "attachments": {},
   "cell_type": "markdown",
   "metadata": {},
   "source": [
    "### Robust Scalar"
   ]
  },
  {
   "cell_type": "code",
   "execution_count": 110,
   "metadata": {},
   "outputs": [
    {
     "name": "stdout",
     "output_type": "stream",
     "text": [
      "Test Set Score:  0.9814814814814815\n"
     ]
    }
   ],
   "source": [
    "print(\"Test Set Score: \", wine_super_pipe_robust.test_score)"
   ]
  },
  {
   "cell_type": "code",
   "execution_count": 111,
   "metadata": {},
   "outputs": [
    {
     "data": {
      "image/png": "[encoded data removed]",
      "text/plain": [
       "<Figure size 640x480 with 1 Axes>"
      ]
     },
     "metadata": {},
     "output_type": "display_data"
    }
   ],
   "source": [
    "plt.bar(wine_super_pipes.keys(), [pipe.test_score for pipe in wine_super_pipes.values()])\n",
    "plt.ylabel(\"Test Set Accuracy\")\n",
    "plt.xlabel(\"Scaler\")\n",
    "plt.ylim(0.9, 1.0)\n",
    "plt.show()"
   ]
  },
  {
   "attachments": {},
   "cell_type": "markdown",
   "metadata": {},
   "source": [
    "## Zip Dataset"
   ]
  },
  {
   "attachments": {},
   "cell_type": "markdown",
   "metadata": {},
   "source": [
    "### MinMax Scaler"
   ]
  },
  {
   "cell_type": "code",
   "execution_count": 112,
   "metadata": {},
   "outputs": [
    {
     "name": "stdout",
     "output_type": "stream",
     "text": [
      "Test Set Score:  0.5517241379310345\n"
     ]
    }
   ],
   "source": [
    "print(\"Test Set Score: \", zip_super_pipe_standard.test_score)"
   ]
  },
  {
   "attachments": {},
   "cell_type": "markdown",
   "metadata": {},
   "source": [
    "### Standard Scaler"
   ]
  },
  {
   "cell_type": "code",
   "execution_count": 113,
   "metadata": {},
   "outputs": [
    {
     "name": "stdout",
     "output_type": "stream",
     "text": [
      "Test Set Score:  0.5517241379310345\n"
     ]
    }
   ],
   "source": [
    "print(\"Test Set Score: \", zip_super_pipe_standard.test_score)"
   ]
  },
  {
   "attachments": {},
   "cell_type": "markdown",
   "metadata": {},
   "source": [
    "### Normalizer"
   ]
  },
  {
   "cell_type": "code",
   "execution_count": 114,
   "metadata": {},
   "outputs": [
    {
     "name": "stdout",
     "output_type": "stream",
     "text": [
      "Test Set Score:  0.5862068965517241\n"
     ]
    }
   ],
   "source": [
    "print(\"Test Set Score: \", zip_super_pipe_normalizer.test_score)"
   ]
  },
  {
   "attachments": {},
   "cell_type": "markdown",
   "metadata": {},
   "source": [
    "### Robust Scaler"
   ]
  },
  {
   "cell_type": "code",
   "execution_count": 115,
   "metadata": {},
   "outputs": [
    {
     "name": "stdout",
     "output_type": "stream",
     "text": [
      "Test Set Score:  0.5862068965517241\n"
     ]
    }
   ],
   "source": [
    "print(\"Test Set Score: \", zip_super_pipe_robust.test_score)"
   ]
  },
  {
   "cell_type": "code",
   "execution_count": 116,
   "metadata": {},
   "outputs": [
    {
     "data": {
      "image/png": "[encoded data removed]",
      "text/plain": [
       "<Figure size 640x480 with 1 Axes>"
      ]
     },
     "metadata": {},
     "output_type": "display_data"
    }
   ],
   "source": [
    "plt.bar(zip_super_pipes.keys(), [pipe.test_score for pipe in zip_super_pipes.values()])\n",
    "plt.ylabel(\"Test Set Accuracy\")\n",
    "plt.xlabel(\"Scaler\")\n",
    "plt.ylim(0.5, 0.6)\n",
    "plt.show()"
   ]
  },
  {
   "attachments": {},
   "cell_type": "markdown",
   "metadata": {},
   "source": [
    "# 7 - Cross-Conformal Prediction"
   ]
  }
 ],
 "metadata": {
  "kernelspec": {
   "display_name": "Python 3.11.0 ('anaconda-pOKeClin-py3.11')",
   "language": "python",
   "name": "python3"
  },
  "language_info": {
   "codemirror_mode": {
    "name": "ipython",
    "version": 3
   },
   "file_extension": ".py",
   "mimetype": "text/x-python",
   "name": "python",
   "nbconvert_exporter": "python",
   "pygments_lexer": "ipython3",
   "version": "3.11.0"
  },
  "orig_nbformat": 4,
  "vscode": {
   "interpreter": {
    "hash": "892714c652f493a6d49359491524d2a8c982297775bb9a8664a3f7cea223b623"
   }
  }
 },
 "nbformat": 4,
 "nbformat_minor": 2
}
