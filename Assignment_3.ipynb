{
 "cells": [
  {
   "cell_type": "markdown",
   "metadata": {},
   "source": [
    "# Assignment 3 - CS3920"
   ]
  },
  {
   "cell_type": "code",
   "execution_count": 19,
   "metadata": {},
   "outputs": [],
   "source": [
    "from sklearn.datasets import load_wine\n",
    "from sklearn.model_selection import train_test_split, cross_val_score, GridSearchCV\n",
    "from sklearn.svm import SVC\n",
    "from sklearn.pipeline import Pipeline, make_pipeline\n",
    "from sklearn.preprocessing import StandardScaler, MinMaxScaler\n",
    "\n",
    "import numpy as np"
   ]
  },
  {
   "attachments": {},
   "cell_type": "markdown",
   "metadata": {},
   "source": [
    "# 1 - Load Datasets"
   ]
  },
  {
   "attachments": {},
   "cell_type": "markdown",
   "metadata": {},
   "source": [
    "## Loading Wine Dataset"
   ]
  },
  {
   "cell_type": "code",
   "execution_count": 20,
   "metadata": {},
   "outputs": [],
   "source": [
    "wine: np.ndarray = load_wine()\n",
    "X_wine: np.ndarray = wine.data\n",
    "y_wine: np.ndarray = wine.target"
   ]
  },
  {
   "attachments": {},
   "cell_type": "markdown",
   "metadata": {},
   "source": [
    "## Loading UPSU Dataset"
   ]
  },
  {
   "cell_type": "code",
   "execution_count": 21,
   "metadata": {},
   "outputs": [],
   "source": [
    "# get the data from the wine dataset text\n",
    "zip_train: np.ndarray = np.genfromtxt('zip.train', delimiter=' ')\n",
    "zip_test: np.ndarray = np.genfromtxt('zip.test', delimiter=' ')\n",
    "zip_data: np.ndarray = np.concatenate((zip_train, zip_test), axis=0)\n",
    "X_zip: np.ndarray = zip_data[:, 1:]\n",
    "y_zip: np.ndarray = zip_data[:, 0]"
   ]
  },
  {
   "attachments": {},
   "cell_type": "markdown",
   "metadata": {},
   "source": [
    "# 2 - Split Datasets "
   ]
  },
  {
   "attachments": {},
   "cell_type": "markdown",
   "metadata": {},
   "source": [
    "## Splitting Wine Dataset"
   ]
  },
  {
   "cell_type": "code",
   "execution_count": 22,
   "metadata": {},
   "outputs": [],
   "source": [
    "X_wine_train, X_wine_test, y_wine_train, y_wine_test = train_test_split(X_wine, y_wine, test_size=0.3, random_state=3103)"
   ]
  },
  {
   "attachments": {},
   "cell_type": "markdown",
   "metadata": {},
   "source": [
    "## Splitting Zip Dataset"
   ]
  },
  {
   "cell_type": "code",
   "execution_count": 23,
   "metadata": {},
   "outputs": [],
   "source": [
    "X_zip_train, X_zip_test, y_zip_train, y_zip_test = train_test_split(X_zip, y_zip, test_size=0.3, random_state=3103)"
   ]
  },
  {
   "attachments": {},
   "cell_type": "markdown",
   "metadata": {},
   "source": [
    "# 3 - Cross Validation"
   ]
  },
  {
   "attachments": {},
   "cell_type": "markdown",
   "metadata": {},
   "source": [
    "## Cross Validate Wine"
   ]
  },
  {
   "cell_type": "code",
   "execution_count": 24,
   "metadata": {},
   "outputs": [
    {
     "name": "stdout",
     "output_type": "stream",
     "text": [
      "Cross-validation scores:  [0.64       0.64       0.6        0.68       0.70833333]\n",
      "Average cross-validation score:  0.6536666666666667\n"
     ]
    }
   ],
   "source": [
    "svm: SVC = SVC()\n",
    "scores_wine: np.ndarray[float] = cross_val_score(svm, X_wine_train, y_wine_train, cv=5)\n",
    "print(\"Cross-validation scores: \", scores_wine)\n",
    "print(\"Average cross-validation score: \", scores_wine.mean())"
   ]
  },
  {
   "attachments": {},
   "cell_type": "markdown",
   "metadata": {},
   "source": [
    "## Cross Validate Zip"
   ]
  },
  {
   "cell_type": "code",
   "execution_count": 25,
   "metadata": {},
   "outputs": [
    {
     "name": "stdout",
     "output_type": "stream",
     "text": [
      "Cross-validation scores:  [0.96236559 0.96697389 0.97542243 0.9707917  0.97002306]\n",
      "Average cross-validation score:  0.9691153325280919\n"
     ]
    }
   ],
   "source": [
    "score_zip: np.ndarray[float] = cross_val_score(svm, X_zip_train, y_zip_train, cv=5)\n",
    "print(\"Cross-validation scores: \", score_zip)\n",
    "print(\"Average cross-validation score: \", score_zip.mean())"
   ]
  },
  {
   "attachments": {},
   "cell_type": "markdown",
   "metadata": {},
   "source": [
    "# 4 - Test Error Rate of `SVM`"
   ]
  },
  {
   "attachments": {},
   "cell_type": "markdown",
   "metadata": {},
   "source": [
    "## Test Wine"
   ]
  },
  {
   "cell_type": "code",
   "execution_count": 26,
   "metadata": {},
   "outputs": [
    {
     "name": "stdout",
     "output_type": "stream",
     "text": [
      "Test error rate:  0.2777777777777778\n"
     ]
    }
   ],
   "source": [
    "svm.fit(X_wine_train, y_wine_train)\n",
    "print(\"Test error rate: \", 1 - svm.score(X_wine_test, y_wine_test))"
   ]
  },
  {
   "attachments": {},
   "cell_type": "markdown",
   "metadata": {},
   "source": [
    "## Test Zip"
   ]
  },
  {
   "cell_type": "code",
   "execution_count": 32,
   "metadata": {},
   "outputs": [
    {
     "name": "stdout",
     "output_type": "stream",
     "text": [
      "Test error rate:  0.024372759856630788\n"
     ]
    }
   ],
   "source": [
    "svm.fit(X_zip_train, y_zip_train)\n",
    "print(\"Test error rate: \", 1 - svm.score(X_zip_test, y_zip_test))"
   ]
  },
  {
   "attachments": {},
   "cell_type": "markdown",
   "metadata": {},
   "source": [
    "# 5 - Pipeline"
   ]
  },
  {
   "cell_type": "code",
   "execution_count": 27,
   "metadata": {},
   "outputs": [],
   "source": [
    "param_grid: dict[str, list[float]] = {\n",
    "\t'svc__C': [0.001, 0.01, 0.1, 1, 10, 100], \n",
    "\t'svc__gamma': [0.001, 0.01, 0.1, 1, 10, 100]\n",
    "}\n",
    "\n",
    "pipe: Pipeline = make_pipeline(StandardScaler(), SVC())"
   ]
  },
  {
   "cell_type": "code",
   "execution_count": 28,
   "metadata": {},
   "outputs": [
    {
     "name": "stdout",
     "output_type": "stream",
     "text": [
      "Best cross-validation accuracy:  0.984\n"
     ]
    }
   ],
   "source": [
    "min_max_pipe_wine: Pipeline = make_pipeline(MinMaxScaler(), SVC())\n",
    "min_grid_wine: GridSearchCV = GridSearchCV(min_max_pipe_wine, param_grid, cv=5)\n",
    "min_grid_wine.fit(X_wine_train, y_wine_train)\n",
    "print(\"Best cross-validation accuracy: \", min_grid_wine.best_score_)"
   ]
  },
  {
   "cell_type": "code",
   "execution_count": 29,
   "metadata": {},
   "outputs": [
    {
     "name": "stdout",
     "output_type": "stream",
     "text": [
      "Best cross-validation accuracy:  0.9836666666666666\n",
      "Best parameters:  {'svc__C': 10, 'svc__gamma': 0.1}\n",
      "Test set score:  0.9814814814814815\n"
     ]
    }
   ],
   "source": [
    "# use StandardScaler to normalize the data\n",
    "grid_wine: GridSearchCV = GridSearchCV(pipe, param_grid, cv=5)\n",
    "grid_wine.fit(X_wine_train, y_wine_train)\n",
    "print(\"Best cross-validation accuracy: \", grid_wine.best_score_)\n",
    "print(\"Best parameters: \", grid_wine.best_params_)\n",
    "print(\"Test set score: \", grid_wine.score(X_wine_test, y_wine_test))\n"
   ]
  },
  {
   "cell_type": "code",
   "execution_count": 30,
   "metadata": {},
   "outputs": [
    {
     "name": "stdout",
     "output_type": "stream",
     "text": [
      "Test error rate:  0.01851851851851849\n"
     ]
    }
   ],
   "source": [
    "standard_scalar_wine: StandardScaler = StandardScaler()\n",
    "X_wine_train_scaled: np.ndarray = standard_scalar_wine.fit_transform(X_wine_train)\n",
    "X_wine_test_scaled: np.ndarray = standard_scalar_wine.transform(X_wine_test)\n",
    "\n",
    "svm.fit(X_wine_train_scaled, y_wine_train)\n",
    "print(\"Test error rate: \", 1 - svm.score(X_wine_test_scaled, y_wine_test))\n"
   ]
  }
 ],
 "metadata": {
  "kernelspec": {
   "display_name": "Python 3.11.0 ('anaconda-pOKeClin-py3.11')",
   "language": "python",
   "name": "python3"
  },
  "language_info": {
   "codemirror_mode": {
    "name": "ipython",
    "version": 3
   },
   "file_extension": ".py",
   "mimetype": "text/x-python",
   "name": "python",
   "nbconvert_exporter": "python",
   "pygments_lexer": "ipython3",
   "version": "3.11.0"
  },
  "orig_nbformat": 4,
  "vscode": {
   "interpreter": {
    "hash": "892714c652f493a6d49359491524d2a8c982297775bb9a8664a3f7cea223b623"
   }
  }
 },
 "nbformat": 4,
 "nbformat_minor": 2
}
