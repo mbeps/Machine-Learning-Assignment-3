{
 "cells": [
  {
   "cell_type": "markdown",
   "metadata": {},
   "source": [
    "# Assignment 3 - CS3920"
   ]
  },
  {
   "cell_type": "code",
   "execution_count": 1,
   "metadata": {},
   "outputs": [],
   "source": [
    "from sklearn.datasets import load_wine\n",
    "from sklearn.model_selection import train_test_split, cross_val_score, GridSearchCV\n",
    "from sklearn.svm import SVC\n",
    "from sklearn.pipeline import Pipeline, make_pipeline\n",
    "from sklearn.preprocessing import StandardScaler, MinMaxScaler\n",
    "\n",
    "import numpy as np"
   ]
  },
  {
   "cell_type": "markdown",
   "metadata": {},
   "source": [
    "## 1 - Load Datasets"
   ]
  },
  {
   "cell_type": "markdown",
   "metadata": {},
   "source": [
    "- Loading Wine dataset"
   ]
  },
  {
   "cell_type": "code",
   "execution_count": 2,
   "metadata": {},
   "outputs": [],
   "source": [
    "wine: np.ndarray = load_wine()\n",
    "X_wine: np.ndarray = wine.data\n",
    "y_wine: np.ndarray = wine.target"
   ]
  },
  {
   "cell_type": "code",
   "execution_count": 3,
   "metadata": {},
   "outputs": [],
   "source": [
    "# get the data from the wine dataset text\n",
    "zip_train: np.ndarray = np.genfromtxt('zip.train', delimiter=' ')\n",
    "zip_test: np.ndarray = np.genfromtxt('zip.test', delimiter=' ')"
   ]
  },
  {
   "cell_type": "markdown",
   "metadata": {},
   "source": [
    "## 2 - Split Datasets "
   ]
  },
  {
   "cell_type": "code",
   "execution_count": 4,
   "metadata": {},
   "outputs": [],
   "source": [
    "X_wine_train, X_wine_test, y_wine_train, y_wine_test = train_test_split(X_wine, y_wine, test_size=0.3, random_state=55)"
   ]
  },
  {
   "cell_type": "code",
   "execution_count": 5,
   "metadata": {},
   "outputs": [],
   "source": [
    "X_zip_train: np.ndarray = zip_train[:, 1:]\n",
    "y_zip_train: np.ndarray = zip_train[:, 0]\n",
    "\n",
    "X_zip_test: np.ndarray = zip_test[:, 1:]\n",
    "y_zip_test: np.ndarray = zip_test[:, 0]"
   ]
  },
  {
   "cell_type": "markdown",
   "metadata": {},
   "source": [
    "## 3 - Cross Validation"
   ]
  },
  {
   "cell_type": "code",
   "execution_count": 6,
   "metadata": {},
   "outputs": [
    {
     "name": "stdout",
     "output_type": "stream",
     "text": [
      "Cross-validation scores:  [0.76       0.6        0.64       0.76       0.66666667]\n",
      "Average cross-validation score:  0.6853333333333332\n"
     ]
    }
   ],
   "source": [
    "svm: SVC = SVC()\n",
    "scores_wine: np.ndarray[float] = cross_val_score(svm, X_wine_train, y_wine_train, cv=5)\n",
    "print(\"Cross-validation scores: \", scores_wine)\n",
    "print(\"Average cross-validation score: \", scores_wine.mean())"
   ]
  },
  {
   "cell_type": "markdown",
   "metadata": {},
   "source": [
    "## 4 - Test Error Rate of `SVM`"
   ]
  },
  {
   "cell_type": "code",
   "execution_count": 7,
   "metadata": {},
   "outputs": [
    {
     "name": "stdout",
     "output_type": "stream",
     "text": [
      "Test error rate:  0.35185185185185186\n"
     ]
    }
   ],
   "source": [
    "svm.fit(X_wine_train, y_wine_train)\n",
    "print(\"Test error rate: \", 1 - svm.score(X_wine_test, y_wine_test))"
   ]
  },
  {
   "cell_type": "markdown",
   "metadata": {},
   "source": [
    "## 5 - Pipeline"
   ]
  },
  {
   "cell_type": "code",
   "execution_count": 8,
   "metadata": {},
   "outputs": [],
   "source": [
    "param_grid: dict[str, list[float]] = {\n",
    "\t'svc__C': [0.001, 0.01, 0.1, 1, 10, 100], \n",
    "\t'svc__gamma': [0.001, 0.01, 0.1, 1, 10, 100]\n",
    "}\n",
    "\n",
    "# Create a pipeline for SVM involving data normalization and SVC, and use grid search and cross-validation to tune parameters C and gamma\n",
    "pipe: Pipeline = make_pipeline(StandardScaler(), SVC())"
   ]
  },
  {
   "cell_type": "code",
   "execution_count": 9,
   "metadata": {},
   "outputs": [
    {
     "name": "stdout",
     "output_type": "stream",
     "text": [
      "Best cross-validation accuracy:  0.992\n"
     ]
    }
   ],
   "source": [
    "min_max_pipe_wine: Pipeline = make_pipeline(MinMaxScaler(), SVC())\n",
    "min_grid_wine: GridSearchCV = GridSearchCV(min_max_pipe_wine, param_grid, cv=5)\n",
    "min_grid_wine.fit(X_wine_train, y_wine_train)\n",
    "print(\"Best cross-validation accuracy: \", min_grid_wine.best_score_)"
   ]
  },
  {
   "cell_type": "code",
   "execution_count": 10,
   "metadata": {},
   "outputs": [
    {
     "name": "stdout",
     "output_type": "stream",
     "text": [
      "Best cross-validation accuracy:  0.992\n",
      "Best parameters:  {'svc__C': 10, 'svc__gamma': 0.01}\n",
      "Test set score:  0.9629629629629629\n"
     ]
    }
   ],
   "source": [
    "# use StandardScaler to normalize the data\n",
    "grid_wine: GridSearchCV = GridSearchCV(pipe, param_grid, cv=5)\n",
    "grid_wine.fit(X_wine_train, y_wine_train)\n",
    "print(\"Best cross-validation accuracy: \", grid_wine.best_score_)\n",
    "print(\"Best parameters: \", grid_wine.best_params_)\n",
    "print(\"Test set score: \", grid_wine.score(X_wine_test, y_wine_test))\n"
   ]
  },
  {
   "cell_type": "code",
   "execution_count": 11,
   "metadata": {},
   "outputs": [
    {
     "name": "stdout",
     "output_type": "stream",
     "text": [
      "Test error rate:  0.03703703703703709\n"
     ]
    }
   ],
   "source": [
    "standard_scalar_wine: StandardScaler = StandardScaler()\n",
    "X_wine_train_scaled: np.ndarray = standard_scalar_wine.fit_transform(X_wine_train)\n",
    "X_wine_test_scaled: np.ndarray = standard_scalar_wine.transform(X_wine_test)\n",
    "\n",
    "svm.fit(X_wine_train_scaled, y_wine_train)\n",
    "print(\"Test error rate: \", 1 - svm.score(X_wine_test_scaled, y_wine_test))\n"
   ]
  }
 ],
 "metadata": {
  "kernelspec": {
   "display_name": "Python 3.11.0 ('anaconda-pOKeClin-py3.11')",
   "language": "python",
   "name": "python3"
  },
  "language_info": {
   "codemirror_mode": {
    "name": "ipython",
    "version": 3
   },
   "file_extension": ".py",
   "mimetype": "text/x-python",
   "name": "python",
   "nbconvert_exporter": "python",
   "pygments_lexer": "ipython3",
   "version": "3.11.0 (main, Oct 24 2022, 00:00:00) [GCC 12.2.1 20220819 (Red Hat 12.2.1-2)]"
  },
  "orig_nbformat": 4,
  "vscode": {
   "interpreter": {
    "hash": "892714c652f493a6d49359491524d2a8c982297775bb9a8664a3f7cea223b623"
   }
  }
 },
 "nbformat": 4,
 "nbformat_minor": 2
}
